{
 "cells": [
  {
   "cell_type": "code",
   "execution_count": 2,
   "metadata": {},
   "outputs": [
    {
     "name": "stdin",
     "output_type": "stream",
     "text": [
      " 10 7 2015\n",
      " 6 8 2016\n"
     ]
    },
    {
     "name": "stdout",
     "output_type": "stream",
     "text": [
      "0\n"
     ]
    }
   ],
   "source": [
    "# Enter your code here. Read input from STDIN. Print output to STDOUT\n",
    "a_day, a_month, a_year = map(int, input().split())\n",
    "e_day, e_month, e_year = map(int, input().split())\n",
    "\n",
    "if a_day > e_day and a_month == e_month and a_year == e_year:\n",
    "    fine = (a_day - e_day) * 15\n",
    "elif a_month > e_month and a_year == e_year:\n",
    "    fine = (a_month - e_month) * 500\n",
    "elif a_year > e_year:\n",
    "    fine = 10000\n",
    "else:\n",
    "    fine = 0\n",
    "print(fine)\n"
   ]
  },
  {
   "cell_type": "code",
   "execution_count": null,
   "metadata": {},
   "outputs": [],
   "source": []
  }
 ],
 "metadata": {
  "kernelspec": {
   "display_name": "Python 3",
   "language": "python",
   "name": "python3"
  },
  "language_info": {
   "codemirror_mode": {
    "name": "ipython",
    "version": 3
   },
   "file_extension": ".py",
   "mimetype": "text/x-python",
   "name": "python",
   "nbconvert_exporter": "python",
   "pygments_lexer": "ipython3",
   "version": "3.7.5"
  }
 },
 "nbformat": 4,
 "nbformat_minor": 4
}
