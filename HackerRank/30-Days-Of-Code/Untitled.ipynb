{
 "cells": [
  {
   "cell_type": "code",
   "execution_count": 3,
   "metadata": {},
   "outputs": [
    {
     "name": "stdout",
     "output_type": "stream",
     "text": [
      "In Chld class\n",
      "Disp1 Abstract method\n",
      "In GrandChild class\n",
      "Disp2 Abstract method\n"
     ]
    }
   ],
   "source": [
    "from abc import ABC, abstractmethod\n",
    "#Interface with abstract methods 'disp1' & 'disp2'\n",
    "class Father(ABC):\n",
    "    @abstractmethod\n",
    "    def disp1(self):\n",
    "        pass\n",
    "    @abstractmethod\n",
    "    def disp2(self):\n",
    "        pass\n",
    "#Abstract class with an abstract method 'disp2' and concrete method 'disp1'\n",
    "class Child(Father):\n",
    "    def disp1(self):\n",
    "        print('In Chld class')\n",
    "        print('Disp1 Abstract method')\n",
    "        \n",
    "class GrandChild(Child):\n",
    "    def disp2(self):\n",
    "        print('In GrandChild class')\n",
    "        print('Disp2 Abstract method')\n",
    "\n",
    "gc = GrandChild()\n",
    "gc.disp1()\n",
    "gc.disp2()"
   ]
  },
  {
   "cell_type": "code",
   "execution_count": 5,
   "metadata": {},
   "outputs": [],
   "source": [
    "from abc import ABC, abstractmethod\n",
    "class Base():\n",
    "    @abstractmethod\n",
    "    def do_Abstract(self):\n",
    "        pass"
   ]
  },
  {
   "cell_type": "code",
   "execution_count": 6,
   "metadata": {},
   "outputs": [],
   "source": [
    "class Sub(Base):\n",
    "    def do_Abstract(self):\n",
    "        print('Implementing do_abstract')"
   ]
  },
  {
   "cell_type": "code",
   "execution_count": 7,
   "metadata": {},
   "outputs": [
    {
     "name": "stdout",
     "output_type": "stream",
     "text": [
      "Implementing do_abstract\n"
     ]
    }
   ],
   "source": [
    "sub = Sub()\n",
    "sub.do_Abstract()"
   ]
  },
  {
   "cell_type": "code",
   "execution_count": 10,
   "metadata": {},
   "outputs": [
    {
     "name": "stdout",
     "output_type": "stream",
     "text": [
      "Implementing do_Abstract\n"
     ]
    }
   ],
   "source": [
    "from abc import ABC, abstractmethod\n",
    "class Base():\n",
    "    @abstractmethod\n",
    "    def do_Abstract(self):\n",
    "        pass\n",
    "class Sub(Base):\n",
    "    def do_Abstract(self):\n",
    "        print('Implementing do_Abstract')\n",
    "sub = Sub()\n",
    "sub.do_Abstract()"
   ]
  },
  {
   "cell_type": "code",
   "execution_count": 1,
   "metadata": {},
   "outputs": [],
   "source": [
    "l=[1,2,3,4,5]"
   ]
  },
  {
   "cell_type": "code",
   "execution_count": 10,
   "metadata": {},
   "outputs": [
    {
     "name": "stdout",
     "output_type": "stream",
     "text": [
      "5\n",
      "4\n",
      "3\n",
      "2\n"
     ]
    }
   ],
   "source": [
    "for passnum in range(len(l)-1, 0, -1):\n",
    "    print(l[passnum])"
   ]
  },
  {
   "cell_type": "code",
   "execution_count": 6,
   "metadata": {},
   "outputs": [
    {
     "name": "stdout",
     "output_type": "stream",
     "text": [
      "5\n",
      "4\n",
      "3\n",
      "2\n",
      "1\n"
     ]
    }
   ],
   "source": [
    "for i in range(5,0,-1):\n",
    "    print(i)"
   ]
  },
  {
   "cell_type": "code",
   "execution_count": 7,
   "metadata": {},
   "outputs": [],
   "source": [
    "li=[1,2,3,4,5]"
   ]
  },
  {
   "cell_type": "code",
   "execution_count": 8,
   "metadata": {},
   "outputs": [
    {
     "name": "stdout",
     "output_type": "stream",
     "text": [
      "5\n",
      "4\n",
      "3\n",
      "2\n"
     ]
    }
   ],
   "source": [
    "for i in range(len(li)-1,0,-1):\n",
    "    print(li[i])"
   ]
  },
  {
   "cell_type": "code",
   "execution_count": 1,
   "metadata": {},
   "outputs": [],
   "source": [
    "n=5"
   ]
  },
  {
   "cell_type": "code",
   "execution_count": 2,
   "metadata": {},
   "outputs": [
    {
     "name": "stdout",
     "output_type": "stream",
     "text": [
      "2 1\n",
      "3 1\n",
      "3 2\n",
      "4 1\n",
      "4 2\n",
      "4 3\n",
      "5 1\n",
      "5 2\n",
      "5 3\n",
      "5 4\n"
     ]
    }
   ],
   "source": [
    "for i in range(1,n+1):\n",
    "    for j in range(1,i):\n",
    "        print(i,j)"
   ]
  },
  {
   "cell_type": "raw",
   "metadata": {},
   "source": [
    "MAX = 0\n",
    "        for i in range(1,n+1):\n",
    "            for j in range(i+1,n+1):\n",
    "                AND = j & i\n",
    "                if AND > MAX and AND < k:\n",
    "                    MAX = AND\n",
    "        print(MAX)"
   ]
  },
  {
   "cell_type": "code",
   "execution_count": 9,
   "metadata": {},
   "outputs": [
    {
     "name": "stdout",
     "output_type": "stream",
     "text": [
      "2 1\n",
      "3 1\n",
      "4 1\n",
      "5 1\n",
      "3 2\n",
      "4 2\n",
      "5 2\n",
      "4 3\n",
      "5 3\n",
      "5 4\n"
     ]
    }
   ],
   "source": [
    "li=[]\n",
    "for i in range(2,n+1):\n",
    "    for j in range(i+1,n+1):\n",
    "       print(j,i)"
   ]
  },
  {
   "cell_type": "code",
   "execution_count": 8,
   "metadata": {},
   "outputs": [
    {
     "name": "stdout",
     "output_type": "stream",
     "text": [
      "1\n"
     ]
    }
   ],
   "source": [
    "print(MAX)"
   ]
  },
  {
   "cell_type": "code",
   "execution_count": 11,
   "metadata": {},
   "outputs": [],
   "source": [
    "li=[12,3,45,5,1]"
   ]
  },
  {
   "cell_type": "code",
   "execution_count": 13,
   "metadata": {},
   "outputs": [
    {
     "data": {
      "text/plain": [
       "1"
      ]
     },
     "execution_count": 13,
     "metadata": {},
     "output_type": "execute_result"
    }
   ],
   "source": [
    "max([i for i in li if i < 2])"
   ]
  },
  {
   "cell_type": "code",
   "execution_count": 14,
   "metadata": {},
   "outputs": [],
   "source": [
    "for i in range(1,1):\n",
    "    print(i)"
   ]
  },
  {
   "cell_type": "code",
   "execution_count": null,
   "metadata": {},
   "outputs": [],
   "source": []
  }
 ],
 "metadata": {
  "kernelspec": {
   "display_name": "Python 3",
   "language": "python",
   "name": "python3"
  },
  "language_info": {
   "codemirror_mode": {
    "name": "ipython",
    "version": 3
   },
   "file_extension": ".py",
   "mimetype": "text/x-python",
   "name": "python",
   "nbconvert_exporter": "python",
   "pygments_lexer": "ipython3",
   "version": "3.7.5"
  }
 },
 "nbformat": 4,
 "nbformat_minor": 4
}
