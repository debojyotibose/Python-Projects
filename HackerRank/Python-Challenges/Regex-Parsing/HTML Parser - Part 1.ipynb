{
 "cells": [
  {
   "cell_type": "code",
   "execution_count": 31,
   "metadata": {},
   "outputs": [],
   "source": [
    "from html.parser import HTMLParser"
   ]
  },
  {
   "cell_type": "code",
   "execution_count": 39,
   "metadata": {},
   "outputs": [],
   "source": [
    "class MyHTMLParser(HTMLParser):\n",
    "    def handle_starttag(self, tag, attrs):\n",
    "        print(\"Start : {}\".format(tag))\n",
    "        if attrs:\n",
    "            for item in attrs:\n",
    "                 print(\"-> {} > {}\".format(item[0],item[1]))\n",
    "                    \n",
    "    def handle_endtag(self, tag):\n",
    "        print(\"End : {}\".format(tag))\n",
    "    \n",
    "    def handle_startendtag(self, tag, attrs):\n",
    "        print(\"Empty : {}\".format(tag))\n",
    "        if attrs:\n",
    "            for item in attrs:\n",
    "                 print(\"-> {} > {}\".format(item[0],item[1]))\n",
    "        \n",
    "        "
   ]
  },
  {
   "cell_type": "code",
   "execution_count": 40,
   "metadata": {},
   "outputs": [],
   "source": [
    "parser = MyHTMLParser()"
   ]
  },
  {
   "cell_type": "code",
   "execution_count": 41,
   "metadata": {},
   "outputs": [
    {
     "name": "stdin",
     "output_type": "stream",
     "text": [
      " 2\n",
      "  <html><head><title>HTML Parser - I</title></head>\n",
      " <body data-modal-target class='1'><h1>HackerRank</h1><br /></body></html>\n"
     ]
    },
    {
     "name": "stdout",
     "output_type": "stream",
     "text": [
      "Start : html\n",
      "Start : head\n",
      "Start : title\n",
      "End : title\n",
      "End : head\n",
      "Start : body\n",
      "-> data-modal-target > None\n",
      "-> class > 1\n",
      "Start : h1\n",
      "End : h1\n",
      "Empty : br\n",
      "End : body\n",
      "End : html\n"
     ]
    }
   ],
   "source": [
    "parser.feed(''.join([ input().strip() for _ in range(int(input()))]))"
   ]
  },
  {
   "cell_type": "raw",
   "metadata": {},
   "source": [
    "    Start : html\n",
    "\n",
    "    Start : head\n",
    "\n",
    "    Start : title\n",
    "\n",
    "    End : title\n",
    "\n",
    "    End : head\n",
    "\n",
    "    Start : body\n",
    "\n",
    "    -> data-modal-target > None\n",
    "\n",
    "    -> class > 1\n",
    "\n",
    "    Start : h1\n",
    "\n",
    "    End : h1\n",
    "\n",
    "    Empty : br\n",
    "\n",
    "    End : body\n",
    "\n",
    "    End : html\n"
   ]
  },
  {
   "cell_type": "raw",
   "metadata": {},
   "source": [
    "Your Output (stdout)\n",
    "\n",
    "    Start : html\n",
    "\n",
    "    Start : head\n",
    "\n",
    "    Start : title\n",
    "\n",
    "    End  : title\n",
    "\n",
    "    End  : head\n",
    "\n",
    "    Start : body\n",
    "\n",
    "    -> data-modal-target > None\n",
    "\n",
    "    -> class > 1\n",
    "\n",
    "    Start : h1\n",
    "\n",
    "    End  : h1\n",
    "\n",
    "    Empty : br\n",
    "\n",
    "    End  : body\n",
    "\n",
    "    End  : html\n",
    "\n",
    "Expected Output\n",
    "Download\n",
    "\n",
    "    Start : html\n",
    "\n",
    "    Start : head\n",
    "\n",
    "    Start : title\n",
    "\n",
    "    End   : title\n",
    "\n",
    "    End   : head\n",
    "\n",
    "    Start : body\n",
    "\n",
    "    -> data-modal-target > None\n",
    "\n",
    "    -> class > 1\n",
    "\n",
    "    Start : h1\n",
    "\n",
    "    End   : h1\n",
    "\n",
    "    Empty : br\n",
    "\n",
    "    End   : body\n",
    "\n",
    "    End   : html\n",
    "\n"
   ]
  },
  {
   "cell_type": "code",
   "execution_count": null,
   "metadata": {},
   "outputs": [],
   "source": []
  }
 ],
 "metadata": {
  "kernelspec": {
   "display_name": "Python 3",
   "language": "python",
   "name": "python3"
  },
  "language_info": {
   "codemirror_mode": {
    "name": "ipython",
    "version": 3
   },
   "file_extension": ".py",
   "mimetype": "text/x-python",
   "name": "python",
   "nbconvert_exporter": "python",
   "pygments_lexer": "ipython3",
   "version": "3.7.5"
  }
 },
 "nbformat": 4,
 "nbformat_minor": 4
}
