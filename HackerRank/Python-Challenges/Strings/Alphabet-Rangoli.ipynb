{
 "cells": [
  {
   "cell_type": "markdown",
   "metadata": {},
   "source": [
    "https://www.hackerrank.com/challenges/alphabet-rangoli/problem?h_r=next-challenge&h_v=zen"
   ]
  },
  {
   "cell_type": "code",
   "execution_count": 2,
   "metadata": {},
   "outputs": [
    {
     "name": "stdin",
     "output_type": "stream",
     "text": [
      " 3\n"
     ]
    }
   ],
   "source": [
    "n=int(input())"
   ]
  },
  {
   "cell_type": "code",
   "execution_count": 3,
   "metadata": {},
   "outputs": [],
   "source": [
    "def print_rangoli(size):\n",
    "    # your code goes here\n",
    "    import string\n",
    "    alpha = string.ascii_lowercase\n",
    "    L = []\n",
    "    for i in range(size):\n",
    "        s = \"-\".join(alpha[i:size])\n",
    "        L.append((s[::-1]+s[1:]).center(4*size-3, \"-\"))\n",
    "    print('\\n'.join(L[::-1]+L[1:]))\n"
   ]
  },
  {
   "cell_type": "code",
   "execution_count": 4,
   "metadata": {},
   "outputs": [
    {
     "name": "stdout",
     "output_type": "stream",
     "text": [
      "----c----\n",
      "--c-b-c--\n",
      "c-b-a-b-c\n",
      "--c-b-c--\n",
      "----c----\n"
     ]
    }
   ],
   "source": [
    "print_rangoli(n)"
   ]
  }
 ],
 "metadata": {
  "kernelspec": {
   "display_name": "Python 3",
   "language": "python",
   "name": "python3"
  },
  "language_info": {
   "codemirror_mode": {
    "name": "ipython",
    "version": 3
   },
   "file_extension": ".py",
   "mimetype": "text/x-python",
   "name": "python",
   "nbconvert_exporter": "python",
   "pygments_lexer": "ipython3",
   "version": "3.7.5"
  }
 },
 "nbformat": 4,
 "nbformat_minor": 4
}
