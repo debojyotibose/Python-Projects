{
 "cells": [
  {
   "cell_type": "markdown",
   "metadata": {},
   "source": [
    "https://www.hackerrank.com/challenges/merge-the-tools/problem"
   ]
  },
  {
   "cell_type": "code",
   "execution_count": 1,
   "metadata": {},
   "outputs": [
    {
     "name": "stdin",
     "output_type": "stream",
     "text": [
      " AABCAAADA\n",
      " 3\n"
     ]
    },
    {
     "name": "stdout",
     "output_type": "stream",
     "text": [
      "AB\n",
      "CA\n",
      "AD\n"
     ]
    }
   ],
   "source": [
    "def merge_the_tools(string, k):\n",
    "    for i in range(0, len(string), k):\n",
    "        s=\"\"\n",
    "        for j in range(i,i+k):\n",
    "            if string[j] not in s:\n",
    "                s+=string[j]\n",
    "        print(s)\n",
    "\n",
    "if __name__ == '__main__':\n",
    "    string, k = input(), int(input())\n",
    "    merge_the_tools(string, k)"
   ]
  },
  {
   "cell_type": "code",
   "execution_count": null,
   "metadata": {},
   "outputs": [],
   "source": []
  }
 ],
 "metadata": {
  "kernelspec": {
   "display_name": "Python 3",
   "language": "python",
   "name": "python3"
  },
  "language_info": {
   "codemirror_mode": {
    "name": "ipython",
    "version": 3
   },
   "file_extension": ".py",
   "mimetype": "text/x-python",
   "name": "python",
   "nbconvert_exporter": "python",
   "pygments_lexer": "ipython3",
   "version": "3.7.5"
  }
 },
 "nbformat": 4,
 "nbformat_minor": 4
}
