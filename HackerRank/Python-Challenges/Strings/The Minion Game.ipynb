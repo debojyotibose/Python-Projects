{
 "cells": [
  {
   "cell_type": "markdown",
   "metadata": {},
   "source": [
    "https://www.hackerrank.com/challenges/the-minion-game/problem"
   ]
  },
  {
   "cell_type": "markdown",
   "metadata": {},
   "source": [
    "# METHOD -1 (FEW TEST CASES FAILED)"
   ]
  },
  {
   "cell_type": "code",
   "execution_count": 116,
   "metadata": {},
   "outputs": [],
   "source": [
    "def minion_game(string):\n",
    "    # your code goes here\n",
    "    vowels=['A','E','I','O','U']\n",
    "    #s = string.strip().upper()\n",
    "    s_list = [ string[i:j] for i in range(len(string)) for j in range(i+1, len(string)+1)]\n",
    "\n",
    "    s_list_vowel = [ i for i in s_list if i[0] in vowels ]\n",
    "    s_set_vowel=set(s_list_vowel)\n",
    "    s_list_consonant=[j for j in s_list if j not in s_list_vowel]\n",
    "    s_set_consonant=set(s_list_consonant)\n",
    "\n",
    "    def count(sub):\n",
    "        return sum(1 for j in range(len(string)) if string.startswith(sub,j))\n",
    "\n",
    "    consonants_count = sum(list(map(count, s_set_consonant)))\n",
    "    vowels_count = sum(list(map(count, s_set_vowel)))\n",
    "\n",
    "    if vowels_count > consonants_count:\n",
    "        print(\"Kevin {}\".format(vowels_count))\n",
    "    elif vowels_count < consonants_count:\n",
    "        print(\"Stuart {}\".format(consonants_count))\n",
    "    else:\n",
    "        print(\"Draw\")"
   ]
  },
  {
   "cell_type": "markdown",
   "metadata": {},
   "source": [
    "# METHOD-2 (CORRECT APPROACH)"
   ]
  },
  {
   "cell_type": "code",
   "execution_count": 134,
   "metadata": {},
   "outputs": [
    {
     "name": "stdin",
     "output_type": "stream",
     "text": [
      " BANANA\n"
     ]
    },
    {
     "name": "stdout",
     "output_type": "stream",
     "text": [
      "Stuart 12\n"
     ]
    }
   ],
   "source": [
    "def minion_game(string):\n",
    "    vowels = \"AEIOU\"\n",
    "    s = string.upper()\n",
    "    strl = len(s)\n",
    "    kevin = sum(strl-i for i in range(strl) if s[i] in vowels)\n",
    "    stuart = strl*(strl + 1)/2 - kevin\n",
    "\n",
    "    \n",
    "    if kevin == stuart:\n",
    "        print('Draw')\n",
    "    elif kevin > stuart:\n",
    "        print(\"Kevin %d\"%kevin)\n",
    "    elif kevin < stuart:\n",
    "        print(\"Stuart %d\"%stuart)\n",
    "\n",
    "if __name__ == '__main__':\n",
    "    s = input()\n",
    "    minion_game(s)"
   ]
  }
 ],
 "metadata": {
  "kernelspec": {
   "display_name": "Python 3",
   "language": "python",
   "name": "python3"
  },
  "language_info": {
   "codemirror_mode": {
    "name": "ipython",
    "version": 3
   },
   "file_extension": ".py",
   "mimetype": "text/x-python",
   "name": "python",
   "nbconvert_exporter": "python",
   "pygments_lexer": "ipython3",
   "version": "3.7.5"
  }
 },
 "nbformat": 4,
 "nbformat_minor": 4
}
